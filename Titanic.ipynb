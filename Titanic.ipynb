{
  "nbformat": 4,
  "nbformat_minor": 0,
  "metadata": {
    "colab": {
      "name": "Titanic.ipynb",
      "provenance": [],
      "collapsed_sections": []
    },
    "kernelspec": {
      "name": "python3",
      "display_name": "Python 3"
    },
    "language_info": {
      "name": "python"
    }
  },
  "cells": [
    {
      "cell_type": "markdown",
      "metadata": {
        "id": "MGL-UITKDAQg"
      },
      "source": [
        "**Introduction**\n",
        "\n",
        "The dataset contains passengers information about the Titanic, such as Age,  Fare, Sex, People on Board and the number of survivors.\n",
        "\n",
        "\n",
        "Questions\n",
        "\n",
        "For this dataset, we first want to perform an exploratory data analysis answering the following questions :\n",
        "\n",
        "1. How many passengers survived ?\n",
        "2. What was the distribution of male and females on board ?\n",
        "3. How many passengers were travelling alone and how many were travelling with one or more family member?\n",
        "4. How many passengers were on each class?\n",
        "5. what was the fare range for the tickets?\n",
        "\n",
        "\n",
        "After an intial exploratory analysis we would like to explare the possible relationship between the independent varibles of the dataset by answering the following questions :\n",
        "\n",
        "1. Doe Age affect the survival rate ?\n",
        "2. Do Class and Fare affect the survival rate both independently and collectively?\n",
        "3. Is there a relationship between sex and survival rate ?\n",
        "\n",
        "\n"
      ]
    },
    {
      "cell_type": "code",
      "metadata": {
        "id": "_w1IO4VwGqip"
      },
      "source": [
        "#Importing libraries\n",
        "\n",
        "import pandas as pd\n",
        "from pandas import Series, DataFrame\n",
        "\n",
        "import numpy as np\n",
        "import matplotlib.pyplot as plt\n",
        "import seaborn as sns\n"
      ],
      "execution_count": null,
      "outputs": []
    },
    {
      "cell_type": "code",
      "metadata": {
        "colab": {
          "base_uri": "https://localhost:8080/",
          "height": 355
        },
        "id": "wkVxrc51G3YJ",
        "outputId": "d12c5f99-ca0c-4fa8-f711-93edcce2c90d"
      },
      "source": [
        "# from google.colab import files\n",
        "# uploaded = files.upload()\n",
        "\n",
        "# import data from csv file\n",
        "df = pd.read_csv('titanic (1).csv')\n",
        "\n",
        "df.head(10) # Looking at first few rows of dataset\n"
      ],
      "execution_count": null,
      "outputs": [
        {
          "output_type": "execute_result",
          "data": {
            "text/html": [
              "<div>\n",
              "<style scoped>\n",
              "    .dataframe tbody tr th:only-of-type {\n",
              "        vertical-align: middle;\n",
              "    }\n",
              "\n",
              "    .dataframe tbody tr th {\n",
              "        vertical-align: top;\n",
              "    }\n",
              "\n",
              "    .dataframe thead th {\n",
              "        text-align: right;\n",
              "    }\n",
              "</style>\n",
              "<table border=\"1\" class=\"dataframe\">\n",
              "  <thead>\n",
              "    <tr style=\"text-align: right;\">\n",
              "      <th></th>\n",
              "      <th>Survived</th>\n",
              "      <th>Pclass</th>\n",
              "      <th>Name</th>\n",
              "      <th>Sex</th>\n",
              "      <th>Age</th>\n",
              "      <th>Siblings/Spouses Aboard</th>\n",
              "      <th>Parents/Children Aboard</th>\n",
              "      <th>Fare</th>\n",
              "    </tr>\n",
              "  </thead>\n",
              "  <tbody>\n",
              "    <tr>\n",
              "      <th>0</th>\n",
              "      <td>0</td>\n",
              "      <td>3 pclass</td>\n",
              "      <td>Mr. Owen Harris Braund</td>\n",
              "      <td>male</td>\n",
              "      <td>22.0</td>\n",
              "      <td>1</td>\n",
              "      <td>0</td>\n",
              "      <td>7.2500</td>\n",
              "    </tr>\n",
              "    <tr>\n",
              "      <th>1</th>\n",
              "      <td>1</td>\n",
              "      <td>1 pclass</td>\n",
              "      <td>Mrs. John Bradley (Florence Briggs Thayer) Cum...</td>\n",
              "      <td>female</td>\n",
              "      <td>38.0</td>\n",
              "      <td>1</td>\n",
              "      <td>0</td>\n",
              "      <td>71.2833</td>\n",
              "    </tr>\n",
              "    <tr>\n",
              "      <th>2</th>\n",
              "      <td>1</td>\n",
              "      <td>3 pclass</td>\n",
              "      <td>Miss. Laina Heikkinen</td>\n",
              "      <td>female</td>\n",
              "      <td>26.0</td>\n",
              "      <td>0</td>\n",
              "      <td>0</td>\n",
              "      <td>7.9250</td>\n",
              "    </tr>\n",
              "    <tr>\n",
              "      <th>3</th>\n",
              "      <td>1</td>\n",
              "      <td>1 pcl</td>\n",
              "      <td>Mrs. Jacques Heath (Lily May Peel) Futrelle</td>\n",
              "      <td>NaN</td>\n",
              "      <td>35.0</td>\n",
              "      <td>1</td>\n",
              "      <td>0</td>\n",
              "      <td>53.1000</td>\n",
              "    </tr>\n",
              "    <tr>\n",
              "      <th>4</th>\n",
              "      <td>0</td>\n",
              "      <td>3 pclass</td>\n",
              "      <td>Mr. William Henry Allen</td>\n",
              "      <td>male</td>\n",
              "      <td>35.0</td>\n",
              "      <td>0</td>\n",
              "      <td>0</td>\n",
              "      <td>8.0500</td>\n",
              "    </tr>\n",
              "    <tr>\n",
              "      <th>5</th>\n",
              "      <td>0</td>\n",
              "      <td>3 pclass</td>\n",
              "      <td>Mr. James Moran</td>\n",
              "      <td>male</td>\n",
              "      <td>27.0</td>\n",
              "      <td>0</td>\n",
              "      <td>0</td>\n",
              "      <td>8.4583</td>\n",
              "    </tr>\n",
              "    <tr>\n",
              "      <th>6</th>\n",
              "      <td>0</td>\n",
              "      <td>1-pclas</td>\n",
              "      <td>Mr. Timothy J McCarthy</td>\n",
              "      <td>male</td>\n",
              "      <td>54.0</td>\n",
              "      <td>0</td>\n",
              "      <td>0</td>\n",
              "      <td>51.8625</td>\n",
              "    </tr>\n",
              "    <tr>\n",
              "      <th>7</th>\n",
              "      <td>0</td>\n",
              "      <td>3-pclass</td>\n",
              "      <td>Master. Gosta Leonard Palsson</td>\n",
              "      <td>male</td>\n",
              "      <td>2.0</td>\n",
              "      <td>3</td>\n",
              "      <td>1</td>\n",
              "      <td>21.0750</td>\n",
              "    </tr>\n",
              "    <tr>\n",
              "      <th>8</th>\n",
              "      <td>1</td>\n",
              "      <td>3-pclass</td>\n",
              "      <td>Mrs. Oscar W (Elisabeth Vilhelmina Berg) Johnson</td>\n",
              "      <td>female</td>\n",
              "      <td>27.0</td>\n",
              "      <td>0</td>\n",
              "      <td>2</td>\n",
              "      <td>11.1333</td>\n",
              "    </tr>\n",
              "    <tr>\n",
              "      <th>9</th>\n",
              "      <td>1</td>\n",
              "      <td>2-pclass</td>\n",
              "      <td>Mrs. Nicholas (Adele Achem) Nasser</td>\n",
              "      <td>female</td>\n",
              "      <td>14.0</td>\n",
              "      <td>1</td>\n",
              "      <td>0</td>\n",
              "      <td>30.0708</td>\n",
              "    </tr>\n",
              "  </tbody>\n",
              "</table>\n",
              "</div>"
            ],
            "text/plain": [
              "   Survived    Pclass  ... Parents/Children Aboard     Fare\n",
              "0         0  3 pclass  ...                       0   7.2500\n",
              "1         1  1 pclass  ...                       0  71.2833\n",
              "2         1  3 pclass  ...                       0   7.9250\n",
              "3         1     1 pcl  ...                       0  53.1000\n",
              "4         0  3 pclass  ...                       0   8.0500\n",
              "5         0  3 pclass  ...                       0   8.4583\n",
              "6         0   1-pclas  ...                       0  51.8625\n",
              "7         0  3-pclass  ...                       1  21.0750\n",
              "8         1  3-pclass  ...                       2  11.1333\n",
              "9         1  2-pclass  ...                       0  30.0708\n",
              "\n",
              "[10 rows x 8 columns]"
            ]
          },
          "metadata": {
            "tags": []
          },
          "execution_count": 192
        }
      ]
    },
    {
      "cell_type": "code",
      "metadata": {
        "colab": {
          "base_uri": "https://localhost:8080/",
          "height": 355
        },
        "id": "N_GpSToqITL6",
        "outputId": "5c1956fd-5f75-43f3-ad34-b50db3d3ced7"
      },
      "source": [
        "## PREPROCESSING ##\n",
        "\n",
        "# We can see that we first to clean our dataset as many columns contain inconsistent information.\n",
        "# In the column of 'Pclass' we will drop all non numeric values and keep the numerical values representing the class of passengers travelling.\n",
        "# We can see that there are three classes. \n",
        "\n",
        "df['Pclass']=df['Pclass'].str.replace(r\"[a-zA-Z]\",'') #removing non- numeric values\n",
        "df['Pclass']=df['Pclass'].str.replace('-', ' ') # removing symbols, can also be performed using regex\n",
        "\n",
        "df.dropna(inplace=True) # We will also drop NaN values from the dataset\n",
        "\n",
        "# Age is given as a float so we will round the numbers. \n",
        "# At the same time, we will remove some values that are below 1 and above 100 as they may skew our results and\n",
        "#are not representative of actual results. \n",
        "\n",
        "df = df[~(df['Age'] <= 1 )] \n",
        "df = df[~(df['Age'] >= 100 )] \n",
        "df['Age']= df['Age'].astype(int)\n",
        "\n",
        "\n",
        "\n",
        "## In the columns of Siblings and Parents Aboard we will also drop negative values\n",
        "\n",
        "df = df[~(df['Siblings/Spouses Aboard'] < 0 )] # remiving negative numbers\n",
        "df = df[~(df['Parents/Children Aboard'] < 0 )] #removing negative numbers\n",
        "\n",
        "## We can see that there are many deviations in the Fare column so we will first round up values and then turn floats to integers. \n",
        "# At the same time, in order to avoid skewing the results we will remove values above 1000\n",
        "\n",
        "df['Fare']=df['Fare'].round(2)\n",
        "df['Fare'] =df['Fare'].astype(int)\n",
        "df = df[~(df['Fare'] > 1000 )] \n",
        "\n",
        "# Let's see the final dataset\n",
        "df.head(10)"
      ],
      "execution_count": null,
      "outputs": [
        {
          "output_type": "execute_result",
          "data": {
            "text/html": [
              "<div>\n",
              "<style scoped>\n",
              "    .dataframe tbody tr th:only-of-type {\n",
              "        vertical-align: middle;\n",
              "    }\n",
              "\n",
              "    .dataframe tbody tr th {\n",
              "        vertical-align: top;\n",
              "    }\n",
              "\n",
              "    .dataframe thead th {\n",
              "        text-align: right;\n",
              "    }\n",
              "</style>\n",
              "<table border=\"1\" class=\"dataframe\">\n",
              "  <thead>\n",
              "    <tr style=\"text-align: right;\">\n",
              "      <th></th>\n",
              "      <th>Survived</th>\n",
              "      <th>Pclass</th>\n",
              "      <th>Name</th>\n",
              "      <th>Sex</th>\n",
              "      <th>Age</th>\n",
              "      <th>Siblings/Spouses Aboard</th>\n",
              "      <th>Parents/Children Aboard</th>\n",
              "      <th>Fare</th>\n",
              "    </tr>\n",
              "  </thead>\n",
              "  <tbody>\n",
              "    <tr>\n",
              "      <th>0</th>\n",
              "      <td>0</td>\n",
              "      <td>3</td>\n",
              "      <td>Mr. Owen Harris Braund</td>\n",
              "      <td>male</td>\n",
              "      <td>22</td>\n",
              "      <td>1</td>\n",
              "      <td>0</td>\n",
              "      <td>7</td>\n",
              "    </tr>\n",
              "    <tr>\n",
              "      <th>1</th>\n",
              "      <td>1</td>\n",
              "      <td>1</td>\n",
              "      <td>Mrs. John Bradley (Florence Briggs Thayer) Cum...</td>\n",
              "      <td>female</td>\n",
              "      <td>38</td>\n",
              "      <td>1</td>\n",
              "      <td>0</td>\n",
              "      <td>71</td>\n",
              "    </tr>\n",
              "    <tr>\n",
              "      <th>2</th>\n",
              "      <td>1</td>\n",
              "      <td>3</td>\n",
              "      <td>Miss. Laina Heikkinen</td>\n",
              "      <td>female</td>\n",
              "      <td>26</td>\n",
              "      <td>0</td>\n",
              "      <td>0</td>\n",
              "      <td>7</td>\n",
              "    </tr>\n",
              "    <tr>\n",
              "      <th>4</th>\n",
              "      <td>0</td>\n",
              "      <td>3</td>\n",
              "      <td>Mr. William Henry Allen</td>\n",
              "      <td>male</td>\n",
              "      <td>35</td>\n",
              "      <td>0</td>\n",
              "      <td>0</td>\n",
              "      <td>8</td>\n",
              "    </tr>\n",
              "    <tr>\n",
              "      <th>5</th>\n",
              "      <td>0</td>\n",
              "      <td>3</td>\n",
              "      <td>Mr. James Moran</td>\n",
              "      <td>male</td>\n",
              "      <td>27</td>\n",
              "      <td>0</td>\n",
              "      <td>0</td>\n",
              "      <td>8</td>\n",
              "    </tr>\n",
              "    <tr>\n",
              "      <th>6</th>\n",
              "      <td>0</td>\n",
              "      <td>1</td>\n",
              "      <td>Mr. Timothy J McCarthy</td>\n",
              "      <td>male</td>\n",
              "      <td>54</td>\n",
              "      <td>0</td>\n",
              "      <td>0</td>\n",
              "      <td>51</td>\n",
              "    </tr>\n",
              "    <tr>\n",
              "      <th>7</th>\n",
              "      <td>0</td>\n",
              "      <td>3</td>\n",
              "      <td>Master. Gosta Leonard Palsson</td>\n",
              "      <td>male</td>\n",
              "      <td>2</td>\n",
              "      <td>3</td>\n",
              "      <td>1</td>\n",
              "      <td>21</td>\n",
              "    </tr>\n",
              "    <tr>\n",
              "      <th>8</th>\n",
              "      <td>1</td>\n",
              "      <td>3</td>\n",
              "      <td>Mrs. Oscar W (Elisabeth Vilhelmina Berg) Johnson</td>\n",
              "      <td>female</td>\n",
              "      <td>27</td>\n",
              "      <td>0</td>\n",
              "      <td>2</td>\n",
              "      <td>11</td>\n",
              "    </tr>\n",
              "    <tr>\n",
              "      <th>9</th>\n",
              "      <td>1</td>\n",
              "      <td>2</td>\n",
              "      <td>Mrs. Nicholas (Adele Achem) Nasser</td>\n",
              "      <td>female</td>\n",
              "      <td>14</td>\n",
              "      <td>1</td>\n",
              "      <td>0</td>\n",
              "      <td>30</td>\n",
              "    </tr>\n",
              "    <tr>\n",
              "      <th>10</th>\n",
              "      <td>1</td>\n",
              "      <td>3</td>\n",
              "      <td>Miss. Marguerite Rut Sandstrom</td>\n",
              "      <td>female</td>\n",
              "      <td>4</td>\n",
              "      <td>1</td>\n",
              "      <td>1</td>\n",
              "      <td>16</td>\n",
              "    </tr>\n",
              "  </tbody>\n",
              "</table>\n",
              "</div>"
            ],
            "text/plain": [
              "    Survived Pclass  ... Parents/Children Aboard Fare\n",
              "0          0     3   ...                       0    7\n",
              "1          1     1   ...                       0   71\n",
              "2          1     3   ...                       0    7\n",
              "4          0     3   ...                       0    8\n",
              "5          0     3   ...                       0    8\n",
              "6          0     1   ...                       0   51\n",
              "7          0     3   ...                       1   21\n",
              "8          1     3   ...                       2   11\n",
              "9          1     2   ...                       0   30\n",
              "10         1     3   ...                       1   16\n",
              "\n",
              "[10 rows x 8 columns]"
            ]
          },
          "metadata": {
            "tags": []
          },
          "execution_count": 193
        }
      ]
    },
    {
      "cell_type": "code",
      "metadata": {
        "colab": {
          "base_uri": "https://localhost:8080/",
          "height": 542
        },
        "id": "GjFF-RXSN8Wc",
        "outputId": "85d84f9f-986c-4211-ea77-1ef6da8d93c7"
      },
      "source": [
        "## Distribution of different variables ##\n",
        "\n",
        "sns.factorplot('Survived', data=df, kind=\"count\")\n",
        "survived_count = df.groupby('Survived')['Survived'].count()\n",
        "print(survived_count)\n",
        "\n",
        "\n",
        "## We can see that  people who did not survive outnumbered the people who suvived."
      ],
      "execution_count": null,
      "outputs": [
        {
          "output_type": "stream",
          "text": [
            "/usr/local/lib/python3.7/dist-packages/seaborn/categorical.py:3714: UserWarning: The `factorplot` function has been renamed to `catplot`. The original name will be removed in a future release. Please update your code. Note that the default `kind` in `factorplot` (`'point'`) has changed `'strip'` in `catplot`.\n",
            "  warnings.warn(msg)\n",
            "/usr/local/lib/python3.7/dist-packages/seaborn/_decorators.py:43: FutureWarning: Pass the following variable as a keyword arg: x. From version 0.12, the only valid positional argument will be `data`, and passing other arguments without an explicit keyword will result in an error or misinterpretation.\n",
            "  FutureWarning\n"
          ],
          "name": "stderr"
        },
        {
          "output_type": "stream",
          "text": [
            "Survived\n",
            "0    494\n",
            "1    307\n",
            "Name: Survived, dtype: int64\n"
          ],
          "name": "stdout"
        },
        {
          "output_type": "display_data",
          "data": {
            "image/png": "[encoded data removed]",
            "text/plain": [
              "<Figure size 360x360 with 1 Axes>"
            ]
          },
          "metadata": {
            "tags": [],
            "needs_background": "light"
          }
        }
      ]
    },
    {
      "cell_type": "code",
      "metadata": {
        "colab": {
          "base_uri": "https://localhost:8080/",
          "height": 542
        },
        "id": "I5AOtHJAO6gO",
        "outputId": "987cd528-a22b-4255-c001-78a44aac4e79"
      },
      "source": [
        "# Distibution of males and female passengers.\n",
        "# TMale passengers outnumbered female passengers.  \n",
        "sns.factorplot('Sex', data=df, kind=\"count\")\n",
        "sex_count = df.groupby('Sex')['Sex'].count()\n",
        "print(sex_count)"
      ],
      "execution_count": null,
      "outputs": [
        {
          "output_type": "stream",
          "text": [
            "/usr/local/lib/python3.7/dist-packages/seaborn/categorical.py:3714: UserWarning: The `factorplot` function has been renamed to `catplot`. The original name will be removed in a future release. Please update your code. Note that the default `kind` in `factorplot` (`'point'`) has changed `'strip'` in `catplot`.\n",
            "  warnings.warn(msg)\n",
            "/usr/local/lib/python3.7/dist-packages/seaborn/_decorators.py:43: FutureWarning: Pass the following variable as a keyword arg: x. From version 0.12, the only valid positional argument will be `data`, and passing other arguments without an explicit keyword will result in an error or misinterpretation.\n",
            "  FutureWarning\n"
          ],
          "name": "stderr"
        },
        {
          "output_type": "stream",
          "text": [
            "Sex\n",
            "female    286\n",
            "male      515\n",
            "Name: Sex, dtype: int64\n"
          ],
          "name": "stdout"
        },
        {
          "output_type": "display_data",
          "data": {
            "image/png": "[encoded data removed]",
            "text/plain": [
              "<Figure size 360x360 with 1 Axes>"
            ]
          },
          "metadata": {
            "tags": [],
            "needs_background": "light"
          }
        }
      ]
    },
    {
      "cell_type": "code",
      "metadata": {
        "colab": {
          "base_uri": "https://localhost:8080/",
          "height": 559
        },
        "id": "yRel2DXWPZq2",
        "outputId": "a61945f8-c795-4536-894b-971b9df36645"
      },
      "source": [
        "# Distibution of classes of passengers.\n",
        "# The majority of passengers belonged to the third class and the minority of passengers were in the first class\n",
        "sns.factorplot('Pclass', data=df, kind=\"count\")\n",
        "class_count = df.groupby('Pclass')['Pclass'].count()\n",
        "print(class_count)"
      ],
      "execution_count": null,
      "outputs": [
        {
          "output_type": "stream",
          "text": [
            "/usr/local/lib/python3.7/dist-packages/seaborn/categorical.py:3714: UserWarning: The `factorplot` function has been renamed to `catplot`. The original name will be removed in a future release. Please update your code. Note that the default `kind` in `factorplot` (`'point'`) has changed `'strip'` in `catplot`.\n",
            "  warnings.warn(msg)\n",
            "/usr/local/lib/python3.7/dist-packages/seaborn/_decorators.py:43: FutureWarning: Pass the following variable as a keyword arg: x. From version 0.12, the only valid positional argument will be `data`, and passing other arguments without an explicit keyword will result in an error or misinterpretation.\n",
            "  FutureWarning\n"
          ],
          "name": "stderr"
        },
        {
          "output_type": "stream",
          "text": [
            "Pclass\n",
            "1     196\n",
            "2     168\n",
            "3     437\n",
            "Name: Pclass, dtype: int64\n"
          ],
          "name": "stdout"
        },
        {
          "output_type": "display_data",
          "data": {
            "image/png": "[encoded data removed]",
            "text/plain": [
              "<Figure size 360x360 with 1 Axes>"
            ]
          },
          "metadata": {
            "tags": [],
            "needs_background": "light"
          }
        }
      ]
    },
    {
      "cell_type": "code",
      "metadata": {
        "colab": {
          "base_uri": "https://localhost:8080/",
          "height": 542
        },
        "id": "WW2A0nBGhif5",
        "outputId": "1127e848-7438-4656-c822-3ae2f94ffde3"
      },
      "source": [
        "## We will crate a new column of passengers travelling alone and with family\n",
        "\n",
        "\n",
        "\n",
        "df['Family_Size'] = 0\n",
        "df['Family_Size'] = df['Siblings/Spouses Aboard']+df['Parents/Children Aboard']\n",
        "  \n",
        "# Adding a column Alone\n",
        "df['Alone'] = 0\n",
        "df.loc[df.Family_Size == 0, 'Alone'] = 1\n",
        "\n",
        "\n",
        "\n",
        "##Distribution of passengers with and without family\n",
        "## We can see that most passengers were travelling alone\n",
        "sns.factorplot('Alone', data=df, kind=\"count\")\n",
        "family_count = df.groupby('Alone')['Alone'].count()\n",
        "print(family_count)"
      ],
      "execution_count": null,
      "outputs": [
        {
          "output_type": "stream",
          "text": [
            "/usr/local/lib/python3.7/dist-packages/seaborn/categorical.py:3714: UserWarning: The `factorplot` function has been renamed to `catplot`. The original name will be removed in a future release. Please update your code. Note that the default `kind` in `factorplot` (`'point'`) has changed `'strip'` in `catplot`.\n",
            "  warnings.warn(msg)\n",
            "/usr/local/lib/python3.7/dist-packages/seaborn/_decorators.py:43: FutureWarning: Pass the following variable as a keyword arg: x. From version 0.12, the only valid positional argument will be `data`, and passing other arguments without an explicit keyword will result in an error or misinterpretation.\n",
            "  FutureWarning\n"
          ],
          "name": "stderr"
        },
        {
          "output_type": "stream",
          "text": [
            "Alone\n",
            "0    302\n",
            "1    499\n",
            "Name: Alone, dtype: int64\n"
          ],
          "name": "stdout"
        },
        {
          "output_type": "display_data",
          "data": {
            "image/png": "[encoded data removed]",
            "text/plain": [
              "<Figure size 360x360 with 1 Axes>"
            ]
          },
          "metadata": {
            "tags": [],
            "needs_background": "light"
          }
        }
      ]
    },
    {
      "cell_type": "code",
      "metadata": {
        "colab": {
          "base_uri": "https://localhost:8080/",
          "height": 577
        },
        "id": "nDSzDaENR-J0",
        "outputId": "962d97b2-f54d-4719-e573-f57bd53e4a06"
      },
      "source": [
        "\n",
        "## We can now also create groups of fare range and see the distribution of tickets among passengers.\n",
        "\n",
        "def fare_range(fare):\n",
        "    value = fare\n",
        "    # Compare the fare ranges\n",
        "    if fare < 10: # Minimun fare value\n",
        "        return 1\n",
        "    if fare >=10 and  fare <=20: # Values between 10 and 20 \n",
        "      return 2\n",
        "    if fare >20 and  fare <=50: # values between 20 and 50\n",
        "      return 3  \n",
        "    if fare >50: # values above 50\n",
        "      return 4  \n",
        "\n",
        "\n",
        "df['Fare_Group']= df['Fare'].apply(fare_range)\n",
        "\n",
        "sns.factorplot('Fare_Group', data=df, kind=\"count\")\n",
        "fare_count = df.groupby('Fare_Group')['Fare_Group'].count()\n",
        "print(fare_count)\n",
        "\n",
        "### We can see that most passengers had a ticket of lower fare under 10 dollars while only a few passengers had a ticket that cost more than 150 dollars.\n"
      ],
      "execution_count": null,
      "outputs": [
        {
          "output_type": "stream",
          "text": [
            "/usr/local/lib/python3.7/dist-packages/seaborn/categorical.py:3714: UserWarning: The `factorplot` function has been renamed to `catplot`. The original name will be removed in a future release. Please update your code. Note that the default `kind` in `factorplot` (`'point'`) has changed `'strip'` in `catplot`.\n",
            "  warnings.warn(msg)\n",
            "/usr/local/lib/python3.7/dist-packages/seaborn/_decorators.py:43: FutureWarning: Pass the following variable as a keyword arg: x. From version 0.12, the only valid positional argument will be `data`, and passing other arguments without an explicit keyword will result in an error or misinterpretation.\n",
            "  FutureWarning\n"
          ],
          "name": "stderr"
        },
        {
          "output_type": "stream",
          "text": [
            "Fare_Group\n",
            "1    311\n",
            "2    166\n",
            "3    183\n",
            "4    141\n",
            "Name: Fare_Group, dtype: int64\n"
          ],
          "name": "stdout"
        },
        {
          "output_type": "display_data",
          "data": {
            "image/png": "[encoded data removed]",
            "text/plain": [
              "<Figure size 360x360 with 1 Axes>"
            ]
          },
          "metadata": {
            "tags": [],
            "needs_background": "light"
          }
        }
      ]
    },
    {
      "cell_type": "code",
      "metadata": {
        "colab": {
          "base_uri": "https://localhost:8080/",
          "height": 276
        },
        "id": "pOW8NvopUFIe",
        "outputId": "02358e2a-ef2c-4dc3-97d7-be535599d896"
      },
      "source": [
        "## Let's explore the relationship between the different variables.\n",
        "\n",
        "## Let's see whether sex has an impact on the survival rate\n",
        "\n",
        "df.groupby(['Size','Geograpgic Region']).size().unstack().plot(kind='bar',stacked=True)\n",
        "plt.show()\n",
        "\n",
        "\n",
        "# We can see that there was a larger number of women than men who survived, taking into account that a priority was given to women and children \n",
        "# to jump in the life boats. Men on the other had the duty of preparing the life boat and helping women and children. "
      ],
      "execution_count": null,
      "outputs": [
        {
          "output_type": "display_data",
          "data": {
            "image/png": "[encoded data removed]",
            "text/plain": [
              "<Figure size 432x288 with 1 Axes>"
            ]
          },
          "metadata": {
            "tags": [],
            "needs_background": "light"
          }
        }
      ]
    },
    {
      "cell_type": "code",
      "metadata": {
        "colab": {
          "base_uri": "https://localhost:8080/",
          "height": 279
        },
        "id": "dkbmxrzH2JMz",
        "outputId": "cad36628-2105-4beb-9bbd-06ec819f351e"
      },
      "source": [
        "## We also want to explore the correlation between Pclass and survival\n",
        "df.groupby(['Pclass','Survived']).size().unstack().plot(kind='bar',stacked=True)\n",
        "plt.show()\n",
        "\n",
        "## As expected passengers of first class were most likely to have survives while most of the passengers in the third class did not survive.\n",
        "## For the second class, there is almost an equal number of passengers who survived and those who did not."
      ],
      "execution_count": null,
      "outputs": [
        {
          "output_type": "display_data",
          "data": {
            "image/png": "[encoded data removed]",
            "text/plain": [
              "<Figure size 432x288 with 1 Axes>"
            ]
          },
          "metadata": {
            "tags": [],
            "needs_background": "light"
          }
        }
      ]
    },
    {
      "cell_type": "code",
      "metadata": {
        "colab": {
          "base_uri": "https://localhost:8080/",
          "height": 490
        },
        "id": "T27gqIrKVKz9",
        "outputId": "dee987f6-0406-4b51-b435-0b813dbf48db"
      },
      "source": [
        "## However, male and female proportion if quite vague as we have to also think of children and infants. \n",
        "# Let's create a new column  with the distinction between male, females and children\n",
        "\n",
        "def male_female_child(passenger):\n",
        "    # Take the Age and Sex\n",
        "    age,sex = passenger\n",
        "    # Compare the age, otherwise leave the sex\n",
        "    if age < 16: # People above the age of 16 were considered adults, as it was usually an appropriate age of getting married.\n",
        "        return 'child'\n",
        "    else:\n",
        "        return sex\n",
        "\n",
        "\n",
        "df['Person']= df[['Age','Sex']].apply(male_female_child, axis=1)\n",
        "\n",
        "## We can also see the relationship between gender ans class\n",
        "\n",
        "sns.factorplot('Pclass', data=df, kind=\"count\", hue='Person')"
      ],
      "execution_count": null,
      "outputs": [
        {
          "output_type": "stream",
          "text": [
            "/usr/local/lib/python3.7/dist-packages/seaborn/categorical.py:3714: UserWarning: The `factorplot` function has been renamed to `catplot`. The original name will be removed in a future release. Please update your code. Note that the default `kind` in `factorplot` (`'point'`) has changed `'strip'` in `catplot`.\n",
            "  warnings.warn(msg)\n",
            "/usr/local/lib/python3.7/dist-packages/seaborn/_decorators.py:43: FutureWarning: Pass the following variable as a keyword arg: x. From version 0.12, the only valid positional argument will be `data`, and passing other arguments without an explicit keyword will result in an error or misinterpretation.\n",
            "  FutureWarning\n"
          ],
          "name": "stderr"
        },
        {
          "output_type": "execute_result",
          "data": {
            "text/plain": [
              "<seaborn.axisgrid.FacetGrid at 0x7fd73c9fae10>"
            ]
          },
          "metadata": {
            "tags": []
          },
          "execution_count": 200
        },
        {
          "output_type": "display_data",
          "data": {
            "image/png": "[encoded data removed]",
            "text/plain": [
              "<Figure size 430.5x360 with 1 Axes>"
            ]
          },
          "metadata": {
            "tags": [],
            "needs_background": "light"
          }
        }
      ]
    },
    {
      "cell_type": "code",
      "metadata": {
        "colab": {
          "base_uri": "https://localhost:8080/",
          "height": 425
        },
        "id": "O7HMFXNsri97",
        "outputId": "5808d532-72fa-4041-f387-93a64894ba29"
      },
      "source": [
        "df.head(10) ## Let's explore how our dataset looks so far"
      ],
      "execution_count": null,
      "outputs": [
        {
          "output_type": "execute_result",
          "data": {
            "text/html": [
              "<div>\n",
              "<style scoped>\n",
              "    .dataframe tbody tr th:only-of-type {\n",
              "        vertical-align: middle;\n",
              "    }\n",
              "\n",
              "    .dataframe tbody tr th {\n",
              "        vertical-align: top;\n",
              "    }\n",
              "\n",
              "    .dataframe thead th {\n",
              "        text-align: right;\n",
              "    }\n",
              "</style>\n",
              "<table border=\"1\" class=\"dataframe\">\n",
              "  <thead>\n",
              "    <tr style=\"text-align: right;\">\n",
              "      <th></th>\n",
              "      <th>Survived</th>\n",
              "      <th>Pclass</th>\n",
              "      <th>Name</th>\n",
              "      <th>Sex</th>\n",
              "      <th>Age</th>\n",
              "      <th>Siblings/Spouses Aboard</th>\n",
              "      <th>Parents/Children Aboard</th>\n",
              "      <th>Fare</th>\n",
              "      <th>Family_Size</th>\n",
              "      <th>Alone</th>\n",
              "      <th>Fare_Group</th>\n",
              "      <th>Person</th>\n",
              "    </tr>\n",
              "  </thead>\n",
              "  <tbody>\n",
              "    <tr>\n",
              "      <th>0</th>\n",
              "      <td>0</td>\n",
              "      <td>3</td>\n",
              "      <td>Mr. Owen Harris Braund</td>\n",
              "      <td>male</td>\n",
              "      <td>22</td>\n",
              "      <td>1</td>\n",
              "      <td>0</td>\n",
              "      <td>7</td>\n",
              "      <td>1</td>\n",
              "      <td>0</td>\n",
              "      <td>1</td>\n",
              "      <td>male</td>\n",
              "    </tr>\n",
              "    <tr>\n",
              "      <th>1</th>\n",
              "      <td>1</td>\n",
              "      <td>1</td>\n",
              "      <td>Mrs. John Bradley (Florence Briggs Thayer) Cum...</td>\n",
              "      <td>female</td>\n",
              "      <td>38</td>\n",
              "      <td>1</td>\n",
              "      <td>0</td>\n",
              "      <td>71</td>\n",
              "      <td>1</td>\n",
              "      <td>0</td>\n",
              "      <td>4</td>\n",
              "      <td>female</td>\n",
              "    </tr>\n",
              "    <tr>\n",
              "      <th>2</th>\n",
              "      <td>1</td>\n",
              "      <td>3</td>\n",
              "      <td>Miss. Laina Heikkinen</td>\n",
              "      <td>female</td>\n",
              "      <td>26</td>\n",
              "      <td>0</td>\n",
              "      <td>0</td>\n",
              "      <td>7</td>\n",
              "      <td>0</td>\n",
              "      <td>1</td>\n",
              "      <td>1</td>\n",
              "      <td>female</td>\n",
              "    </tr>\n",
              "    <tr>\n",
              "      <th>4</th>\n",
              "      <td>0</td>\n",
              "      <td>3</td>\n",
              "      <td>Mr. William Henry Allen</td>\n",
              "      <td>male</td>\n",
              "      <td>35</td>\n",
              "      <td>0</td>\n",
              "      <td>0</td>\n",
              "      <td>8</td>\n",
              "      <td>0</td>\n",
              "      <td>1</td>\n",
              "      <td>1</td>\n",
              "      <td>male</td>\n",
              "    </tr>\n",
              "    <tr>\n",
              "      <th>5</th>\n",
              "      <td>0</td>\n",
              "      <td>3</td>\n",
              "      <td>Mr. James Moran</td>\n",
              "      <td>male</td>\n",
              "      <td>27</td>\n",
              "      <td>0</td>\n",
              "      <td>0</td>\n",
              "      <td>8</td>\n",
              "      <td>0</td>\n",
              "      <td>1</td>\n",
              "      <td>1</td>\n",
              "      <td>male</td>\n",
              "    </tr>\n",
              "    <tr>\n",
              "      <th>6</th>\n",
              "      <td>0</td>\n",
              "      <td>1</td>\n",
              "      <td>Mr. Timothy J McCarthy</td>\n",
              "      <td>male</td>\n",
              "      <td>54</td>\n",
              "      <td>0</td>\n",
              "      <td>0</td>\n",
              "      <td>51</td>\n",
              "      <td>0</td>\n",
              "      <td>1</td>\n",
              "      <td>4</td>\n",
              "      <td>male</td>\n",
              "    </tr>\n",
              "    <tr>\n",
              "      <th>7</th>\n",
              "      <td>0</td>\n",
              "      <td>3</td>\n",
              "      <td>Master. Gosta Leonard Palsson</td>\n",
              "      <td>male</td>\n",
              "      <td>2</td>\n",
              "      <td>3</td>\n",
              "      <td>1</td>\n",
              "      <td>21</td>\n",
              "      <td>4</td>\n",
              "      <td>0</td>\n",
              "      <td>3</td>\n",
              "      <td>child</td>\n",
              "    </tr>\n",
              "    <tr>\n",
              "      <th>8</th>\n",
              "      <td>1</td>\n",
              "      <td>3</td>\n",
              "      <td>Mrs. Oscar W (Elisabeth Vilhelmina Berg) Johnson</td>\n",
              "      <td>female</td>\n",
              "      <td>27</td>\n",
              "      <td>0</td>\n",
              "      <td>2</td>\n",
              "      <td>11</td>\n",
              "      <td>2</td>\n",
              "      <td>0</td>\n",
              "      <td>2</td>\n",
              "      <td>female</td>\n",
              "    </tr>\n",
              "    <tr>\n",
              "      <th>9</th>\n",
              "      <td>1</td>\n",
              "      <td>2</td>\n",
              "      <td>Mrs. Nicholas (Adele Achem) Nasser</td>\n",
              "      <td>female</td>\n",
              "      <td>14</td>\n",
              "      <td>1</td>\n",
              "      <td>0</td>\n",
              "      <td>30</td>\n",
              "      <td>1</td>\n",
              "      <td>0</td>\n",
              "      <td>3</td>\n",
              "      <td>child</td>\n",
              "    </tr>\n",
              "    <tr>\n",
              "      <th>10</th>\n",
              "      <td>1</td>\n",
              "      <td>3</td>\n",
              "      <td>Miss. Marguerite Rut Sandstrom</td>\n",
              "      <td>female</td>\n",
              "      <td>4</td>\n",
              "      <td>1</td>\n",
              "      <td>1</td>\n",
              "      <td>16</td>\n",
              "      <td>2</td>\n",
              "      <td>0</td>\n",
              "      <td>2</td>\n",
              "      <td>child</td>\n",
              "    </tr>\n",
              "  </tbody>\n",
              "</table>\n",
              "</div>"
            ],
            "text/plain": [
              "    Survived Pclass  ... Fare_Group  Person\n",
              "0          0     3   ...          1    male\n",
              "1          1     1   ...          4  female\n",
              "2          1     3   ...          1  female\n",
              "4          0     3   ...          1    male\n",
              "5          0     3   ...          1    male\n",
              "6          0     1   ...          4    male\n",
              "7          0     3   ...          3   child\n",
              "8          1     3   ...          2  female\n",
              "9          1     2   ...          3   child\n",
              "10         1     3   ...          2   child\n",
              "\n",
              "[10 rows x 12 columns]"
            ]
          },
          "metadata": {
            "tags": []
          },
          "execution_count": 214
        }
      ]
    },
    {
      "cell_type": "code",
      "metadata": {
        "colab": {
          "base_uri": "https://localhost:8080/",
          "height": 304
        },
        "id": "4OLHIqgnWsFX",
        "outputId": "918f8b85-2b70-4e4e-9d27-7968258bb1a2"
      },
      "source": [
        "##Let's explore the relationship between our three groups and  the survival rate.\n",
        "\n",
        "\n",
        "df.groupby(['Person','Survived']).size().unstack().plot(kind='bar',stacked=True)\n",
        "plt.show()\n",
        "\n",
        "## As we can see, women and children were most likely to survive with almost half of children on board surviving, while again we can \n",
        "# that the majority of men did not survive."
      ],
      "execution_count": null,
      "outputs": [
        {
          "output_type": "display_data",
          "data": {
            "image/png": "[encoded data removed]",
            "text/plain": [
              "<Figure size 432x288 with 1 Axes>"
            ]
          },
          "metadata": {
            "tags": [],
            "needs_background": "light"
          }
        }
      ]
    },
    {
      "cell_type": "code",
      "metadata": {
        "colab": {
          "base_uri": "https://localhost:8080/",
          "height": 276
        },
        "id": "RGyorQffXytY",
        "outputId": "086ca92c-82d4-41c2-89ce-5e91143cfe45"
      },
      "source": [
        "## Next, we want to explore whether people travelling with family were most likely to survive\n",
        "\n",
        "df.groupby(['Alone','Survived']).size().unstack().plot(kind='bar',stacked=True)\n",
        "plt.show()\n",
        "\n",
        "## We can see than almost half of the passengers with families survived, while the majority of passengers travelling alone did not survive"
      ],
      "execution_count": null,
      "outputs": [
        {
          "output_type": "display_data",
          "data": {
            "image/png": "[encoded data removed]",
            "text/plain": [
              "<Figure size 432x288 with 1 Axes>"
            ]
          },
          "metadata": {
            "tags": [],
            "needs_background": "light"
          }
        }
      ]
    },
    {
      "cell_type": "code",
      "metadata": {
        "colab": {
          "base_uri": "https://localhost:8080/",
          "height": 277
        },
        "id": "d4CW6IV0YLb2",
        "outputId": "6b2555fc-7fee-4d4f-b7ab-896912143b0c"
      },
      "source": [
        "## Let's explore whether the fare range had a relationshp with the survival rate\n",
        "\n",
        "df.groupby(['Fare_Group','Survived']).size().unstack().plot(kind='bar',stacked=True)\n",
        "plt.show()\n",
        "\n",
        "\n",
        "## As we could imagine, most passengers in the first fare range, which was the lowest, did not survive while most of the passengers in the fourth \n",
        "## fare range did survive. \n",
        "## We can remember that a priority to the life boats was given to first class passengers \n"
      ],
      "execution_count": null,
      "outputs": [
        {
          "output_type": "display_data",
          "data": {
            "image/png": "[encoded data removed]",
            "text/plain": [
              "<Figure size 432x288 with 1 Axes>"
            ]
          },
          "metadata": {
            "tags": [],
            "needs_background": "light"
          }
        }
      ]
    },
    {
      "cell_type": "code",
      "metadata": {
        "colab": {
          "base_uri": "https://localhost:8080/",
          "height": 455
        },
        "id": "S4NkEataY5EO",
        "outputId": "2c5c18eb-378b-4143-c48b-34562ce58627"
      },
      "source": [
        "## Let us explore whether age and class could have an impact on survival rate. \n",
        "ages=[10,20,40,60,80] # Simplify ages by using age groups\n",
        "\n",
        "## Again, we can see that older people of the three classes did not survive while the most likely age group to survive in the three \n",
        "# classes was the age group of 20-35\n",
        "\n",
        "sns.lmplot('Age','Survived',hue='Pclass', data=df, palette='inferno',x_bins=ages)"
      ],
      "execution_count": null,
      "outputs": [
        {
          "output_type": "stream",
          "text": [
            "/usr/local/lib/python3.7/dist-packages/seaborn/_decorators.py:43: FutureWarning: Pass the following variables as keyword args: x, y. From version 0.12, the only valid positional argument will be `data`, and passing other arguments without an explicit keyword will result in an error or misinterpretation.\n",
            "  FutureWarning\n"
          ],
          "name": "stderr"
        },
        {
          "output_type": "execute_result",
          "data": {
            "text/plain": [
              "<seaborn.axisgrid.FacetGrid at 0x7fd736c4d750>"
            ]
          },
          "metadata": {
            "tags": []
          },
          "execution_count": 205
        },
        {
          "output_type": "display_data",
          "data": {
            "image/png": "[encoded data removed]",
            "text/plain": [
              "<Figure size 405.5x360 with 1 Axes>"
            ]
          },
          "metadata": {
            "tags": [],
            "needs_background": "light"
          }
        }
      ]
    },
    {
      "cell_type": "code",
      "metadata": {
        "colab": {
          "base_uri": "https://localhost:8080/",
          "height": 456
        },
        "id": "Qc76Tf5nc9xR",
        "outputId": "46a3b9df-22ac-4b39-b181-b405ec5fcff9"
      },
      "source": [
        "## We can also explore the relationship between gender and Fare_Group\n",
        "sns.lmplot('Fare_Group','Survived',hue='Sex', data=df, palette='inferno')"
      ],
      "execution_count": null,
      "outputs": [
        {
          "output_type": "stream",
          "text": [
            "/usr/local/lib/python3.7/dist-packages/seaborn/_decorators.py:43: FutureWarning: Pass the following variables as keyword args: x, y. From version 0.12, the only valid positional argument will be `data`, and passing other arguments without an explicit keyword will result in an error or misinterpretation.\n",
            "  FutureWarning\n"
          ],
          "name": "stderr"
        },
        {
          "output_type": "execute_result",
          "data": {
            "text/plain": [
              "<seaborn.axisgrid.FacetGrid at 0x7fd736b1d910>"
            ]
          },
          "metadata": {
            "tags": []
          },
          "execution_count": 206
        },
        {
          "output_type": "display_data",
          "data": {
            "image/png": "[encoded data removed]",
            "text/plain": [
              "<Figure size 430.5x360 with 1 Axes>"
            ]
          },
          "metadata": {
            "tags": [],
            "needs_background": "light"
          }
        }
      ]
    },
    {
      "cell_type": "code",
      "metadata": {
        "colab": {
          "base_uri": "https://localhost:8080/",
          "height": 456
        },
        "id": "OITJbZ1WiiaY",
        "outputId": "f1138dc7-9bc7-40a8-dc67-e668953ad49b"
      },
      "source": [
        "## We can also analyse whether the fare group as well as travelling alone or with a family could result in a higher survival rate.\n",
        "\n",
        "sns.lmplot('Fare_Group','Survived',hue='Alone', data=df, palette='inferno')\n",
        "\n",
        "\n",
        "## We can see that even though the difference is not significant, there is a higher survival rate among passengers who travelled with a family and\n",
        "# had paid a more expensive fare. \n"
      ],
      "execution_count": null,
      "outputs": [
        {
          "output_type": "stream",
          "text": [
            "/usr/local/lib/python3.7/dist-packages/seaborn/_decorators.py:43: FutureWarning: Pass the following variables as keyword args: x, y. From version 0.12, the only valid positional argument will be `data`, and passing other arguments without an explicit keyword will result in an error or misinterpretation.\n",
            "  FutureWarning\n"
          ],
          "name": "stderr"
        },
        {
          "output_type": "execute_result",
          "data": {
            "text/plain": [
              "<seaborn.axisgrid.FacetGrid at 0x7fd736b7c5d0>"
            ]
          },
          "metadata": {
            "tags": []
          },
          "execution_count": 207
        },
        {
          "output_type": "display_data",
          "data": {
            "image/png": "[encoded data removed]",
            "text/plain": [
              "<Figure size 402.375x360 with 1 Axes>"
            ]
          },
          "metadata": {
            "tags": [],
            "needs_background": "light"
          }
        }
      ]
    },
    {
      "cell_type": "code",
      "metadata": {
        "colab": {
          "base_uri": "https://localhost:8080/",
          "height": 456
        },
        "id": "ETjGUkkQnu2C",
        "outputId": "62452c89-0776-454a-93b9-c9395f940147"
      },
      "source": [
        "## Lets us also explore the correlation between adults, children, Fare group and survival rate\n",
        "sns.lmplot('Fare_Group','Survived',hue='Person', data=df, palette='inferno')\n",
        "\n"
      ],
      "execution_count": null,
      "outputs": [
        {
          "output_type": "stream",
          "text": [
            "/usr/local/lib/python3.7/dist-packages/seaborn/_decorators.py:43: FutureWarning: Pass the following variables as keyword args: x, y. From version 0.12, the only valid positional argument will be `data`, and passing other arguments without an explicit keyword will result in an error or misinterpretation.\n",
            "  FutureWarning\n"
          ],
          "name": "stderr"
        },
        {
          "output_type": "execute_result",
          "data": {
            "text/plain": [
              "<seaborn.axisgrid.FacetGrid at 0x7fd7369b38d0>"
            ]
          },
          "metadata": {
            "tags": []
          },
          "execution_count": 209
        },
        {
          "output_type": "display_data",
          "data": {
            "image/png": "[encoded data removed]",
            "text/plain": [
              "<Figure size 430.5x360 with 1 Axes>"
            ]
          },
          "metadata": {
            "tags": [],
            "needs_background": "light"
          }
        }
      ]
    },
    {
      "cell_type": "markdown",
      "metadata": {
        "id": "y47pDdKznU03"
      },
      "source": [
        "**Conclusion**\n",
        "\n",
        "After exploring our dataset we detected some very interesting correlations between different variables.\n",
        "\n",
        "As expected, more women and children survived and most men died on the Titanic. Almost half of the children on board survived.\n",
        "Also, we also saw that passengers of higher classes and a ticket of higher fare had a higher survival rate than passengers of second and third classes ans especially those  with a minimun tickt fare.\n",
        "\n",
        "More passengers with families survived than passengers travelling alone and again there is a correlation between a higher class and passengers with families. \n",
        "\n",
        "As expected, older ages did not survive while passengers between the ages of one to 25 were most likely to have survived, especially those belonging to a higher fare group. \n",
        "\n",
        "However, children of higher fare groups did not have a higher survival rate than children of lower fare groups, while for women this was not the same as more women of higher fare groups survived. \n",
        "\n",
        "Last, we did not explore any correlation between the Name column and survival as it is assumed that the title does not have a direct effect on the survival rate. \n"
      ]
    }
  ]
}